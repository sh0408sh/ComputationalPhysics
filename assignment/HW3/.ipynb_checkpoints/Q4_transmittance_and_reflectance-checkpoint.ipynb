{
 "cells": [
  {
   "cell_type": "markdown",
   "id": "3b140016",
   "metadata": {},
   "source": [
    "Question 4. Modify ‘maxwell1d-I.py’ to simulate an EM \n",
    "wave passing through a boundary between two media \n",
    "with refractive indices n1\n",
    "and n2\n",
    ". Compare the reflectance \n",
    "(R) and transmittance (T) obtained from your simulations \n",
    "with the following known formulae.\n",
    "\n",
    "$T = {{I_{t}}\\over{I_{i}}}= {{I_{r}}\\over{I_{i}}}={{\\epsilon_{2}v_{2}}\\over{\\epsilon_{1}v_{1}}}|{{E_{t}}\\over{E_{i}}}|^{2} = {{4n_{1}n_{2}}\\over{({n_{1}+n_{2}})^2}}$\n",
    "\n",
    "$R = {|{{E_{r}}\\over{E_{i}}}|}^{2} = {({{n_{1}-n_{2}}\\over{n_{1}+n_{2}}})^2}$\n",
    "\n",
    "Note: assume the media are non-magnetic, i.e $\\mu = \\mu_{0}$. Then the refractive \n",
    "index is determined by the permittivity; $ n = \\sqrt {\\epsilon/\\epsilon_{0}}$"
   ]
  },
  {
   "cell_type": "markdown",
   "id": "a6ec9c7c",
   "metadata": {},
   "source": [
    "1. import package"
   ]
  },
  {
   "cell_type": "code",
   "execution_count": 4,
   "id": "25ffbd6d",
   "metadata": {},
   "outputs": [],
   "source": [
    "import numpy as np\n",
    "import matplotlib.pyplot as plt"
   ]
  },
  {
   "cell_type": "markdown",
   "id": "f36c3543",
   "metadata": {},
   "source": [
    "2. variables"
   ]
  },
  {
   "cell_type": "code",
   "execution_count": 2,
   "id": "d50074a5",
   "metadata": {},
   "outputs": [],
   "source": [
    "xmax=float(4) #max of x coordinate\n",
    "dx=float(0.01) # differential of x\n",
    "dt=float(0.005) #time interval\n",
    "f=float(4) # frequency\n",
    "smax=int(800) # # of iteration\n",
    "n1 = float(1) # refractive index of incident space\n",
    "n2 = float(1.3) # refractive index of transmission space\n",
    "dsav = int(50) # time interval for animate"
   ]
  },
  {
   "cell_type": "markdown",
   "id": "d7f643b5",
   "metadata": {},
   "source": [
    "3. simulation factor"
   ]
  },
  {
   "cell_type": "code",
   "execution_count": 5,
   "id": "19bba64d",
   "metadata": {},
   "outputs": [],
   "source": [
    "a=dt/dx  #coefficient for recurrence relation\n",
    "w=2.0*np.pi*f # angular frequency"
   ]
  },
  {
   "cell_type": "code",
   "execution_count": 6,
   "id": "1ae24558",
   "metadata": {},
   "outputs": [],
   "source": [
    "x=np.arange(0,xmax+dx,dx) #x- coordinate space\n",
    "c=int(0.5*xmax/dx) #center of coordinate : Let the boundary between two media be here."
   ]
  },
  {
   "cell_type": "markdown",
   "id": "7c4dcf75",
   "metadata": {},
   "source": [
    "4. Electric field and magnetic fiend function, initial condition"
   ]
  },
  {
   "cell_type": "code",
   "execution_count": 7,
   "id": "7077725f",
   "metadata": {},
   "outputs": [],
   "source": [
    "Ey=0*x; Ez=0*x\n",
    "By=0*x; Bz=0*x"
   ]
  },
  {
   "cell_type": "code",
   "execution_count": 8,
   "id": "4aa809ac",
   "metadata": {},
   "outputs": [],
   "source": [
    "# factor to measure the amplitude of incident wave\n",
    "Ei = 0\n",
    "tmp = 0\n",
    "# iteration factor \n",
    "s=0\n"
   ]
  },
  {
   "cell_type": "markdown",
   "id": "f723306d",
   "metadata": {},
   "source": [
    "refractive index n = c/v when v is velocity in that media\n",
    "Therefore we should change c to v by dividing n.\n",
    "Incident media [:c] has n1 and Transmission media [c:] has n2\n",
    "\n",
    "Faraday's law doesn't depend on velocity of wave in media. So, It would be same before.\n",
    "\n",
    "Ampere's law have velocity factor. It should be divded by refractive index."
   ]
  },
  {
   "cell_type": "code",
   "execution_count": 15,
   "id": "f7de6e30",
   "metadata": {},
   "outputs": [],
   "source": [
    "while s < smax:\n",
    "    By[:-1] += a * (Ez[1:] - Ez[:-1])\n",
    "    Bz[:-1] += -a * (Ey[1:] - Ey[:-1])\n",
    "\n",
    "    Ey[1:c] += -a * (Bz[1:c] - Bz[0:c - 1]) / (n1 ** 2) # incident space\n",
    "    Ey[c:-1] += -a * (Bz[c:-1] - Bz[c - 1:-2]) / (n2 ** 2) # Transmission space \n",
    "    if w * s * dt < 4.05/2*np.pi: # To observe reflective wavey clearly\n",
    "        #we will emit just pulse.Otherwise, incident and reflective wave will be overlapped.\n",
    "        Ey[0] += dt * (np.sin(w * s * dt))/ (n1 ** 2) #wave source \n",
    "        #Ey[0] =  (np.sin(w * s * dt)) #if you want sine-wave\n",
    "        #find maximum value(amplitude) of incident wave\n",
    "        tmp = Ey[0]\n",
    "        if Ei < tmp :\n",
    "            Ei = tmp\n",
    "    Ez[1:c] += a * (By[1:c] - By[0:c - 1]) / (n1 ** 2)# incident space\n",
    "    Ez[c:-1] += a * (By[c:-1] - By[c - 1:-2]) / (n2 ** 2)# Transmission space\n",
    "    \"\"\"\n",
    "   #snap shot once dsav :But it does not work in jupyter notebook. So, I treat it as comment. But it will work in other IDE\n",
    "    if s % dsav == 0:\n",
    "        plt.ylim(-0.2,0.2)  # set the ylimit of sub-panels\n",
    "        plt.yticks(np.arange(-0.2,0.2, 0.04))  # yticks\n",
    "        plt.plot(x, Ey)\n",
    "        plt.draw()\n",
    "        plt.pause(0.01)\n",
    "        plt.clf()\n",
    "     \"\"\"\n",
    "    s += 1\n"
   ]
  },
  {
   "cell_type": "code",
   "execution_count": 16,
   "id": "efc39dfc",
   "metadata": {},
   "outputs": [
    {
     "data": {
      "image/png": "[encoded data removed]",
      "text/plain": [
       "<Figure size 640x480 with 1 Axes>"
      ]
     },
     "metadata": {},
     "output_type": "display_data"
    }
   ],
   "source": [
    "plt.plot(x,Ey)\n",
    "plt.show()"
   ]
  },
  {
   "cell_type": "markdown",
   "id": "eec27b9b",
   "metadata": {},
   "source": [
    "5. find amplitude of reflexive and transmitted wave. "
   ]
  },
  {
   "cell_type": "code",
   "execution_count": 20,
   "id": "09b6be72",
   "metadata": {},
   "outputs": [
    {
     "name": "stdout",
     "output_type": "stream",
     "text": [
      "Ei is 0.07947272421932652\n",
      "Et is 0.06944623137070448\n",
      "Er is 0.010634864802872212\n"
     ]
    }
   ],
   "source": [
    "Et = np.max(Ey[c:])\n",
    "Er = abs(np.min(Ey[:c]))\n",
    "print(f\"Ei is {Ei}\\nEt is {Et}\\nEr is {Er}\")"
   ]
  },
  {
   "attachments": {},
   "cell_type": "markdown",
   "id": "a5cc84d7",
   "metadata": {},
   "source": [
    "6.Measure T and R\n",
    "$T ={{\\epsilon_{2}v_{2}}\\over{\\epsilon_{1}v_{1}}}{|{{E_{t}}\\over{E_{i}}}|}^{2} = {{n_{2}}\\over{n_{1}}}{|{{E_{t}}\\over{E_{i}}}|}^{2}\\\\\n",
    "R = {|{{E_{r}}\\over{E_{i}}}|}^{2} $"
   ]
  },
  {
   "cell_type": "code",
   "execution_count": 25,
   "id": "bf273dbe",
   "metadata": {},
   "outputs": [
    {
     "name": "stdout",
     "output_type": "stream",
     "text": [
      "measured T is 0.9926691325213437\n",
      "measured R is 0.017907202545581116\n",
      " T+R=1.0105763350669248\n"
     ]
    }
   ],
   "source": [
    "m_T = (n2/n1)*((Et/Ei)**2)\n",
    "m_R = (Er/Ei)**2\n",
    "print(f\"measured T is {m_T}\\nmeasured R is {m_R}\\n T+R={m_T+m_R}\")"
   ]
  },
  {
   "cell_type": "markdown",
   "id": "54412b1a",
   "metadata": {},
   "source": [
    "7.Evaluate T and R\n",
    "\n",
    "$T = {{4n_{1}n_{2}}\\over{({n_{1}+n_{2}})^2}}$\n",
    "\n",
    "$R = {({{n_{1}-n_{2}}\\over{n_{1}+n_{2}}})^2}$\n"
   ]
  },
  {
   "cell_type": "code",
   "execution_count": 27,
   "id": "f49766e6",
   "metadata": {},
   "outputs": [
    {
     "name": "stdout",
     "output_type": "stream",
     "text": [
      "calculated T is 0.9829867674858225\n",
      "calculated R is 0.0170132325141777\n",
      " T+R=1.0000000000000002\n"
     ]
    }
   ],
   "source": [
    "c_T = 4*(n1*n2)/((n1+n2)**2)\n",
    "c_R = ((n1-n2)/(n1+n2))**2\n",
    "print(f\"calculated T is {c_T}\\ncalculated R is {c_R}\\n T+R={c_T+c_R}\")"
   ]
  },
  {
   "cell_type": "markdown",
   "id": "2ee20ee5",
   "metadata": {},
   "source": [
    "8. Compare measured values and calculated values"
   ]
  },
  {
   "cell_type": "code",
   "execution_count": 29,
   "id": "7324a12e",
   "metadata": {},
   "outputs": [
    {
     "name": "stdout",
     "output_type": "stream",
     "text": [
      "Error of T is 0.9849944430366782%\n",
      "Error of R is 5.254557184582296%\n"
     ]
    }
   ],
   "source": [
    "err_T = (abs(m_T-c_T)/c_T)*100\n",
    "err_R = (abs(m_R-c_R)/c_R)*100\n",
    "print(f\"Error of T is {err_T}%\\nError of R is {err_R}%\")"
   ]
  }
 ],
 "metadata": {
  "kernelspec": {
   "display_name": "Python 3 (ipykernel)",
   "language": "python",
   "name": "python3"
  },
  "language_info": {
   "codemirror_mode": {
    "name": "ipython",
    "version": 3
   },
   "file_extension": ".py",
   "mimetype": "text/x-python",
   "name": "python",
   "nbconvert_exporter": "python",
   "pygments_lexer": "ipython3",
   "version": "3.9.13"
  }
 },
 "nbformat": 4,
 "nbformat_minor": 5
}

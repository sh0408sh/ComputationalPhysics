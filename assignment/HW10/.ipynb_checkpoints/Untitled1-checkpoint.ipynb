{
 "cells": [
  {
   "cell_type": "code",
   "execution_count": null,
   "id": "d447b4ba",
   "metadata": {},
   "outputs": [],
   "source": [
    "import numpy as np\n",
    "import matplotlib.pyplot as plt\n"
   ]
  },
  {
   "cell_type": "code",
   "execution_count": null,
   "id": "d10ff0b2",
   "metadata": {},
   "outputs": [],
   "source": [
    "Nx=int(1000)  # num. meshes\n",
    "imax=int(1000)   # max step to iterate\n",
    "tol=float(1e-5)   # error tolerence. something like 1e-5"
   ]
  },
  {
   "cell_type": "code",
   "execution_count": null,
   "id": "c929df54",
   "metadata": {},
   "outputs": [],
   "source": [
    "# Setup arrays. \n",
    "x=np.arange(0,Nx+1)  # x-array\n",
    "u=0.0*x              # u-array, the potential\n",
    "resid=0.0*x"
   ]
  },
  {
   "cell_type": "code",
   "execution_count": null,
   "id": "c75cec79",
   "metadata": {},
   "outputs": [],
   "source": [
    "# Jacobi spectral radius\n",
    "rjac=np.cos(np.pi/Nx)"
   ]
  },
  {
   "cell_type": "code",
   "execution_count": null,
   "id": "b01fdd48",
   "metadata": {},
   "outputs": [],
   "source": [
    "# rectangular function for the charge density. Used two Heaviside step func.\n",
    "s=np.heaviside(x/Nx-0.4,1)*np.heaviside(0.6-x/Nx,1)\n",
    "plt.plot(x,s);  plt.show()"
   ]
  },
  {
   "cell_type": "code",
   "execution_count": null,
   "id": "c6ff628d",
   "metadata": {},
   "outputs": [],
   "source": [
    "# initial error \n",
    "errf=sum(np.fabs(s))\n",
    "err= errf  # initial error"
   ]
  }
 ],
 "metadata": {
  "kernelspec": {
   "display_name": "Python 3 (ipykernel)",
   "language": "python",
   "name": "python3"
  },
  "language_info": {
   "codemirror_mode": {
    "name": "ipython",
    "version": 3
   },
   "file_extension": ".py",
   "mimetype": "text/x-python",
   "name": "python",
   "nbconvert_exporter": "python",
   "pygments_lexer": "ipython3",
   "version": "3.9.13"
  }
 },
 "nbformat": 4,
 "nbformat_minor": 5
}

{
 "cells": [
  {
   "cell_type": "markdown",
   "id": "77241472",
   "metadata": {},
   "source": [
    "Question 1. Count how many times out of 1000 trials the drunken man \n",
    "returns to origin within 100 steps. Use return1d.py and extend it to 2D and \n",
    "3D. Compare the probabilities of returning to origin for different dimensions."
   ]
  },
  {
   "cell_type": "code",
   "execution_count": 1,
   "id": "237bfd9c",
   "metadata": {},
   "outputs": [],
   "source": [
    "import random\n",
    "import numpy as np\n",
    "import matplotlib.pyplot as plt"
   ]
  },
  {
   "cell_type": "markdown",
   "id": "10bb8609",
   "metadata": {},
   "source": [
    "Trial : the number of drunken men\n",
    "\n",
    "N : the number of steps"
   ]
  },
  {
   "cell_type": "code",
   "execution_count": 2,
   "id": "6d9ae3fd",
   "metadata": {},
   "outputs": [],
   "source": [
    "Trial=10000\n",
    "N=int(1000)"
   ]
  },
  {
   "cell_type": "markdown",
   "id": "e822320d",
   "metadata": {},
   "source": [
    "location array for each time"
   ]
  },
  {
   "cell_type": "code",
   "execution_count": 3,
   "id": "39bd520f",
   "metadata": {},
   "outputs": [
    {
     "data": {
      "text/plain": [
       "array([[0, 0],\n",
       "       [0, 0],\n",
       "       [0, 0],\n",
       "       ...,\n",
       "       [0, 0],\n",
       "       [0, 0],\n",
       "       [0, 0]])"
      ]
     },
     "execution_count": 3,
     "metadata": {},
     "output_type": "execute_result"
    }
   ],
   "source": [
    "x=np.array(([0]*2)*N).reshape((N,2))\n",
    "x"
   ]
  },
  {
   "cell_type": "markdown",
   "id": "d67963ca",
   "metadata": {},
   "source": [
    "Set the random variables"
   ]
  },
  {
   "cell_type": "code",
   "execution_count": 4,
   "id": "8f5771d0",
   "metadata": {},
   "outputs": [],
   "source": [
    "# direction of each step\n",
    "left = np.array([-1,0])\n",
    "right = np.array([1,0])\n",
    "up = np.array([0,1])\n",
    "down = np.array([0,-1])"
   ]
  },
  {
   "cell_type": "markdown",
   "id": "656af25c",
   "metadata": {},
   "source": [
    "Simulation in 2D"
   ]
  },
  {
   "cell_type": "code",
   "execution_count": 7,
   "id": "757b58c2",
   "metadata": {},
   "outputs": [],
   "source": [
    "cnt=0 # the number of drunken men who returns to origin within 100 steps\n",
    "for t in range(Trial): # for each drunken man\n",
    "    x = 0*x  # initialize location array \n",
    "    for i in range(N-1): # trial\n",
    "        r=random.choice([left, right, up, down]) # random variables\n",
    "        x[i+1] = x[i] + r\n",
    "#         if t == 0 and i <= 5:\n",
    "#             print(r,x[i])        \n",
    "        if all(x[i+1] == np.zeros(2)) : # if x[i+1][0] == 0 and x[i+1][1] == 0\n",
    "            #print(t,i)\n",
    "            cnt +=1\n",
    "            break\n",
    "        if i > 100 : # we consider how many persons back to origin wthin '100' steps\n",
    "            break"
   ]
  },
  {
   "cell_type": "code",
   "execution_count": 8,
   "id": "48dc5674",
   "metadata": {},
   "outputs": [
    {
     "name": "stdout",
     "output_type": "stream",
     "text": [
      "0.5917\n"
     ]
    }
   ],
   "source": [
    "print(cnt/Trial)"
   ]
  },
  {
   "cell_type": "markdown",
   "id": "c5f8224d",
   "metadata": {},
   "source": [
    "3D"
   ]
  },
  {
   "cell_type": "code",
   "execution_count": 9,
   "id": "6a5ca70a",
   "metadata": {},
   "outputs": [
    {
     "data": {
      "text/plain": [
       "array([[0., 0., 0.],\n",
       "       [0., 0., 0.],\n",
       "       [0., 0., 0.],\n",
       "       ...,\n",
       "       [0., 0., 0.],\n",
       "       [0., 0., 0.],\n",
       "       [0., 0., 0.]])"
      ]
     },
     "execution_count": 9,
     "metadata": {},
     "output_type": "execute_result"
    }
   ],
   "source": [
    "x=np.array(([0.]*3)*N).reshape((N,3))\n",
    "x"
   ]
  },
  {
   "cell_type": "code",
   "execution_count": 10,
   "id": "5af02da3",
   "metadata": {},
   "outputs": [],
   "source": [
    "# direction of each step\n",
    "forward = np.array([1.,0.,0.])\n",
    "back = np.array([-1.,0.,0.])\n",
    "left = np.array([0.,1.,0.])\n",
    "right = np.array([0.,-1.,0.])\n",
    "up = np.array([0.,0.,1.])\n",
    "down = np.array([0.,0.,-1.])"
   ]
  },
  {
   "cell_type": "code",
   "execution_count": 11,
   "id": "8b493b57",
   "metadata": {},
   "outputs": [],
   "source": [
    "cnt=0\n",
    "for t in range(Trial):\n",
    "    x = 0*x\n",
    "    for i in range(N-1):\n",
    "        r=random.choice([forward, back,left, right, up, down])\n",
    "        x[i+1] = x[i] + r\n",
    "#         if t == 0 and i <= 5:\n",
    "#             print(r,x[i])        \n",
    "        if all(x[i+1] == np.zeros(3)) : \n",
    "            #print(t,i)\n",
    "            cnt +=1\n",
    "            break\n",
    "        if i > 100 : # we consider how many persons back to origin wthin '100' steps\n",
    "            break"
   ]
  },
  {
   "cell_type": "code",
   "execution_count": 12,
   "id": "f5ae83d0",
   "metadata": {},
   "outputs": [
    {
     "name": "stdout",
     "output_type": "stream",
     "text": [
      "0.3136\n"
     ]
    }
   ],
   "source": [
    "print(cnt/Trial)"
   ]
  }
 ],
 "metadata": {
  "kernelspec": {
   "display_name": "Python 3 (ipykernel)",
   "language": "python",
   "name": "python3"
  },
  "language_info": {
   "codemirror_mode": {
    "name": "ipython",
    "version": 3
   },
   "file_extension": ".py",
   "mimetype": "text/x-python",
   "name": "python",
   "nbconvert_exporter": "python",
   "pygments_lexer": "ipython3",
   "version": "3.9.13"
  }
 },
 "nbformat": 4,
 "nbformat_minor": 5
}

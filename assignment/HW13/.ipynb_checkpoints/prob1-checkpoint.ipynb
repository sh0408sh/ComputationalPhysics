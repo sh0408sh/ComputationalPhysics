{
 "cells": [
  {
   "cell_type": "markdown",
   "id": "cb65ba92",
   "metadata": {},
   "source": [
    "Question 1. On ‘doolittle-head.py’ in the BB, write your own Doolittle LU decompositor and apply it to the 5x5 matrix in the same file.\n"
   ]
  },
  {
   "cell_type": "code",
   "execution_count": 1,
   "id": "c9c87708",
   "metadata": {},
   "outputs": [],
   "source": [
    "import numpy as np\n",
    "import scipy.linalg as la"
   ]
  },
  {
   "cell_type": "code",
   "execution_count": 2,
   "id": "cd8fa4cd",
   "metadata": {},
   "outputs": [],
   "source": [
    "A=np.array([[2,4,5,-1,-3],\n",
    "           [1,3,2,6,-2],\n",
    "           [4,2,1,0,-3],\n",
    "           [-3,0,6,1,2],\n",
    "           [-1,1,2,4,2]])\n"
   ]
  },
  {
   "cell_type": "code",
   "execution_count": 3,
   "id": "fac21332",
   "metadata": {},
   "outputs": [],
   "source": [
    "x_len = A.shape[0]\n",
    "y_len = A.shape[1]"
   ]
  },
  {
   "cell_type": "code",
   "execution_count": 4,
   "id": "f293b106",
   "metadata": {},
   "outputs": [],
   "source": [
    "n=5\n",
    "u=np.zeros(n*n);  u=np.reshape(u,[n,n])\n",
    "l=np.zeros(n*n);  l=np.reshape(l,[n,n])\n",
    "B=np.zeros(n*n);  B=np.reshape(B,[n,n])"
   ]
  },
  {
   "attachments": {
    "image-6.png": {
     "image/png": "[encoded data removed]"
    },
    "image-7.png": {
     "image/png": "[encoded data removed]"
    }
   },
   "cell_type": "markdown",
   "id": "226f5ebb",
   "metadata": {},
   "source": [
    "![image-6.png](attachment:image-6.png)\n",
    "![image-7.png](attachment:image-7.png)"
   ]
  },
  {
   "cell_type": "code",
   "execution_count": 6,
   "id": "787617b0",
   "metadata": {},
   "outputs": [],
   "source": [
    "# Write your own doolittle decompositor here\n",
    "u[0,0] = A[0,0]\n",
    "for j in range(n) :\n",
    "    l[j,j] = 1\n",
    "\n",
    "#for j in range(n) :\n",
    "    for i in range(j+1) :\n",
    "        u_fac = sum(u[k,j]*l[i,k] for k in range(i))\n",
    "        u[i,j] = A[i,j] - u_fac\n",
    "    for i in range(j,n) :\n",
    "        l_fac = sum(u[k,j]*l[i,k] for k in range(j))\n",
    "        l[i,j] = (A[i,j]-l_fac)/u[j,j]"
   ]
  },
  {
   "cell_type": "code",
   "execution_count": 7,
   "id": "ccf4da34",
   "metadata": {},
   "outputs": [],
   "source": [
    "# From here, it is just to check LxU gives the original matrix\n",
    "# matrix product of L and U\n",
    "for i in range(n):\n",
    "\tfor j in range(n):\n",
    "\t\ts=0; \n",
    "\t\tfor k in range(n): s += l[i,k]*u[k,j]\n",
    "\t\tB[i,j] = s\n"
   ]
  },
  {
   "cell_type": "code",
   "execution_count": 8,
   "id": "e3f331a3",
   "metadata": {},
   "outputs": [
    {
     "name": "stdout",
     "output_type": "stream",
     "text": [
      "[[ 2  4  5 -1 -3]\n",
      " [ 1  3  2  6 -2]\n",
      " [ 4  2  1  0 -3]\n",
      " [-3  0  6  1  2]\n",
      " [-1  1  2  4  2]]\n",
      "[[ 1.          0.          0.          0.          0.        ]\n",
      " [ 0.5         1.          0.          0.          0.        ]\n",
      " [ 2.         -6.          1.          0.          0.        ]\n",
      " [-1.5         6.         -1.375       1.          0.        ]\n",
      " [-0.5         3.         -0.5         0.26666667  1.        ]]\n",
      "[[  2.           4.           5.          -1.          -3.        ]\n",
      " [  0.           1.          -0.5          6.5         -0.5       ]\n",
      " [  0.           0.         -12.          41.           0.        ]\n",
      " [  0.           0.           0.          16.875        0.5       ]\n",
      " [  0.           0.           0.           0.           1.86666667]]\n",
      "[[ 2.  4.  5. -1. -3.]\n",
      " [ 1.  3.  2.  6. -2.]\n",
      " [ 4.  2.  1.  0. -3.]\n",
      " [-3.  0.  6.  1.  2.]\n",
      " [-1.  1.  2.  4.  2.]]\n"
     ]
    }
   ],
   "source": [
    "print(A)  # original matrix\n",
    "print(l)  # lower triangular\n",
    "print(u)  # upper triangular\n",
    "print(B)  # Check if LU=A"
   ]
  },
  {
   "cell_type": "code",
   "execution_count": 9,
   "id": "412b4b82",
   "metadata": {},
   "outputs": [
    {
     "name": "stdout",
     "output_type": "stream",
     "text": [
      "[[ 1.          0.          0.          0.          0.        ]\n",
      " [ 0.5         1.          0.          0.          0.        ]\n",
      " [-0.75        0.5         1.          0.          0.        ]\n",
      " [ 0.25        0.83333333 -0.44444444  1.          0.        ]\n",
      " [-0.25        0.5         0.          0.6         1.        ]]\n",
      "[[ 4.          2.          1.          0.         -3.        ]\n",
      " [ 0.          3.          4.5        -1.         -1.5       ]\n",
      " [ 0.          0.          4.5         1.5         0.5       ]\n",
      " [ 0.          0.          0.          7.5         0.22222222]\n",
      " [ 0.          0.          0.          0.          1.86666667]]\n"
     ]
    }
   ],
   "source": [
    "#built in function\n",
    "import scipy.linalg  \n",
    "P, L, U = scipy.linalg.lu(A)\n",
    "print(L)\n",
    "print(U)"
   ]
  }
 ],
 "metadata": {
  "kernelspec": {
   "display_name": "Python 3 (ipykernel)",
   "language": "python",
   "name": "python3"
  },
  "language_info": {
   "codemirror_mode": {
    "name": "ipython",
    "version": 3
   },
   "file_extension": ".py",
   "mimetype": "text/x-python",
   "name": "python",
   "nbconvert_exporter": "python",
   "pygments_lexer": "ipython3",
   "version": "3.9.13"
  }
 },
 "nbformat": 4,
 "nbformat_minor": 5
}

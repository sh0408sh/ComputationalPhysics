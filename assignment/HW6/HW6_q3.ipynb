{
 "cells": [
  {
   "cell_type": "markdown",
   "id": "bc2b8a38",
   "metadata": {},
   "source": [
    "Question 3. By modifying ‘ode-3body.py’, simulate the Armageddon project.\n",
    "Assuming a certain value of split speed by explosion, determine the closest\n",
    "limit point of explosion to avoid the disaster. "
   ]
  },
  {
   "cell_type": "code",
   "execution_count": 1,
   "id": "7db6b745",
   "metadata": {},
   "outputs": [],
   "source": [
    "import numpy as np\n",
    "import matplotlib.pyplot as plt\n",
    "import scipy.integrate as integ"
   ]
  },
  {
   "cell_type": "code",
   "execution_count": 2,
   "id": "41a23be5",
   "metadata": {},
   "outputs": [],
   "source": [
    "# A vector function. y is a two-compo vector, i.e. (x,v).\n",
    "# f returns two-compo vector, i.e. (f1,f2)=(.\n",
    "def F(z,t):  \n",
    "\tx1,y1,x2,y2,x3,y3,v1x,v1y,v2x,v2y,v3x,v3y=z  \n",
    "\n",
    "\tr12=np.sqrt((x1-x2)**2+(y1-y2)**2)\n",
    "\tr23=np.sqrt((x2-x3)**2+(y2-y3)**2)\n",
    "\tr31=np.sqrt((x3-x1)**2+(y3-y1)**2)\n",
    "\n",
    "\tf1x=-m2*(x1-x2)/r12**3 - m3*(x1-x3)/r31**3\n",
    "\tf1y=-m2*(y1-y2)/r12**3 - m3*(y1-y3)/r31**3\n",
    "\n",
    "\tf2x=-m1*(x2-x1)/r12**3 - m3*(x2-x3)/r23**3\n",
    "\tf2y=-m1*(y2-y1)/r12**3 - m3*(y2-y3)/r23**3\n",
    "\n",
    "\tf3x=-m1*(x3-x1)/r31**3 - m2*(x3-x2)/r23**3\n",
    "\tf3y=-m1*(y3-y1)/r31**3 - m2*(y3-y2)/r23**3\n",
    "\n",
    "\treturn [v1x,v1y,v2x,v2y,v3x,v3y,f1x,f1y,f2x,f2y,f3x,f3y]   \n"
   ]
  },
  {
   "cell_type": "code",
   "execution_count": 3,
   "id": "525317c5",
   "metadata": {},
   "outputs": [],
   "source": [
    "h=float(0.01)   # time step\n",
    "nStep=int(40)  # num. steps to run\n",
    "m1 = float(1)   # mass of object 1\n",
    "m2 = float(1)   # mass of object 2\n",
    "m3 = float(30)   # mass of object 3"
   ]
  },
  {
   "cell_type": "code",
   "execution_count": 4,
   "id": "cc7e2c90",
   "metadata": {},
   "outputs": [],
   "source": [
    "t=np.arange(0,h*nStep,h)  # an array of discretized time \n",
    "# initial condition : m1 and m2 should have same condition \n",
    "# z0=[0.5,0,  -1.5,0, 0,0,  0,4.3, 0,-1.5,  0,0]  # initial conditions: x0=1, v0=0\n",
    "x1 = -1.;y1 = 0.\n",
    "x2 = -1.1;y2 = 0.\n",
    "x3 = 0.;y3 = 0. #initial position \n",
    "r = 0.3 #radius or m3\n"
   ]
  },
  {
   "cell_type": "markdown",
   "id": "53647826",
   "metadata": {},
   "source": [
    "If distance between m1 and m3 or m2 and m3 is smaller than r, It means m1 or m2 crash into m3. (since m3 has radius r)."
   ]
  },
  {
   "cell_type": "code",
   "execution_count": 21,
   "id": "80d19e41",
   "metadata": {},
   "outputs": [],
   "source": [
    "def Armageddon(theta) :\n",
    "    v0 = 7\n",
    "# To split m1 and m2 perfectly, relative vy  should be larger than escape velocity\n",
    "    vx1 = v0*np.cos(theta)\n",
    "    vy1 = v0*np.sin(theta)\n",
    "    vx2= v0*np.cos(theta)\n",
    "    vy2=-v0*np.sin(theta);vx3 = 0.;vy3 = 0.\n",
    "    z0=[x1,y1,x2,y2,x3,y3,vx1,vy1,vx2,vy2,vx3,vy3]  \n",
    "    sol = integ.odeint(F,z0,t) # sol is [[x0,y0,vx0,vy0],..]\n",
    "\n",
    "\n",
    "    for i in range(nStep) :\n",
    "        d1 = np.sqrt((sol[:,0]-sol[:,4])**2+(sol[:,1]-sol[:,5])**2 )\n",
    "        d2 = np.sqrt((sol[:,2]-sol[:,4])**2+(sol[:,3]-sol[:,5])**2)\n",
    "        if d1[i] <=r or d2[i]<=r: # if m1 or m2 crash into m3 \n",
    "#             print(d1[i],d2[i])\n",
    "            print(\"boom!\")\n",
    "            result = 'boom!'\n",
    "            \n",
    "            figure, axes = plt.subplots()\n",
    "\n",
    "            draw_circle = plt.Circle((sol[i,4],sol[i,5]), r,fill=False)\n",
    "            axes.set_aspect(1)\n",
    "            axes.add_artist(draw_circle)\n",
    "    \n",
    "            plt.scatter(sol[i,0],sol[i,1])\n",
    "            plt.scatter(sol[i,2],sol[i,3])\n",
    "            plt.scatter(sol[i,4],sol[i,5])\n",
    "            plt.plot(sol[:,0],sol[:,1],color = 'r')\n",
    "            plt.plot(sol[:,2],sol[:,3], color = 'b')\n",
    "            plt.plot(sol[:,4],sol[:,5], color = 'g');plt.show()\n",
    "            break\n",
    "        if i == nStep -1 :\n",
    "            print(\"Safe!\")\n",
    "            result = 'Safe!'\n",
    "\n",
    "    return result"
   ]
  },
  {
   "cell_type": "code",
   "execution_count": 22,
   "id": "e2082c6f",
   "metadata": {},
   "outputs": [
    {
     "name": "stdout",
     "output_type": "stream",
     "text": [
      "Safe!\n"
     ]
    },
    {
     "data": {
      "text/plain": [
       "'Safe!'"
      ]
     },
     "execution_count": 22,
     "metadata": {},
     "output_type": "execute_result"
    }
   ],
   "source": [
    "Armageddon(np.pi/4)"
   ]
  },
  {
   "cell_type": "code",
   "execution_count": 24,
   "id": "facde837",
   "metadata": {},
   "outputs": [
    {
     "name": "stdout",
     "output_type": "stream",
     "text": [
      "Safe!\n",
      "Safe!\n",
      "Safe!\n",
      "Safe!\n",
      "Safe!\n",
      "Safe!\n",
      "Safe!\n",
      "Safe!\n",
      "Safe!\n",
      "Safe!\n",
      "boom!\n"
     ]
    },
    {
     "data": {
      "image/png": "[encoded data removed]",
      "text/plain": [
       "<Figure size 640x480 with 1 Axes>"
      ]
     },
     "metadata": {},
     "output_type": "display_data"
    },
    {
     "name": "stdout",
     "output_type": "stream",
     "text": [
      "limit angle: 0.7753981633974483\n"
     ]
    }
   ],
   "source": [
    "theta = np.pi/4\n",
    "while True :\n",
    "    result = Armageddon(theta)\n",
    "    if result == 'boom!' :\n",
    "        print(\"limit angle:\",theta)\n",
    "        break\n",
    "    else :\n",
    "        theta = theta - 0.001\n",
    "        "
   ]
  },
  {
   "cell_type": "code",
   "execution_count": null,
   "id": "fe851ce2",
   "metadata": {},
   "outputs": [],
   "source": []
  }
 ],
 "metadata": {
  "kernelspec": {
   "display_name": "Python 3 (ipykernel)",
   "language": "python",
   "name": "python3"
  },
  "language_info": {
   "codemirror_mode": {
    "name": "ipython",
    "version": 3
   },
   "file_extension": ".py",
   "mimetype": "text/x-python",
   "name": "python",
   "nbconvert_exporter": "python",
   "pygments_lexer": "ipython3",
   "version": "3.9.13"
  }
 },
 "nbformat": 4,
 "nbformat_minor": 5
}

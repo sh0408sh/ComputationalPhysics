{
 "cells": [
  {
   "cell_type": "code",
   "execution_count": 1,
   "id": "fcee24ec",
   "metadata": {},
   "outputs": [],
   "source": [
    "def f(x) :\n",
    "    y =x**2\n",
    "    return y"
   ]
  },
  {
   "cell_type": "markdown",
   "id": "0446adad",
   "metadata": {},
   "source": [
    "sm.derivative(f,2)"
   ]
  },
  {
   "cell_type": "code",
   "execution_count": 3,
   "id": "0b1f0e68",
   "metadata": {},
   "outputs": [],
   "source": [
    "import scipy.misc as sm"
   ]
  },
  {
   "cell_type": "code",
   "execution_count": 5,
   "id": "b3c529b3",
   "metadata": {},
   "outputs": [
    {
     "data": {
      "text/plain": [
       "4.0"
      ]
     },
     "execution_count": 5,
     "metadata": {},
     "output_type": "execute_result"
    }
   ],
   "source": [
    "sm.derivative(f,2)"
   ]
  },
  {
   "cell_type": "code",
   "execution_count": 7,
   "id": "498b56f7",
   "metadata": {},
   "outputs": [
    {
     "data": {
      "text/plain": [
       "4.000000000000001"
      ]
     },
     "execution_count": 7,
     "metadata": {},
     "output_type": "execute_result"
    }
   ],
   "source": [
    "sm.derivative(f,2,dx=0.1)"
   ]
  },
  {
   "cell_type": "code",
   "execution_count": 8,
   "id": "0c7c22ea",
   "metadata": {},
   "outputs": [
    {
     "data": {
      "text/plain": [
       "3.999999999999937"
      ]
     },
     "execution_count": 8,
     "metadata": {},
     "output_type": "execute_result"
    }
   ],
   "source": [
    "sm.derivative(f,2,dx=0.01)"
   ]
  },
  {
   "cell_type": "code",
   "execution_count": null,
   "id": "98404553",
   "metadata": {},
   "outputs": [],
   "source": [
    "#Derivative on a data set"
   ]
  },
  {
   "cell_type": "code",
   "execution_count": 11,
   "id": "c80fe6d6",
   "metadata": {},
   "outputs": [],
   "source": [
    "import numpy as np\n",
    "import matplotlib.pyplot as plt"
   ]
  },
  {
   "cell_type": "code",
   "execution_count": null,
   "id": "a075cf92",
   "metadata": {},
   "outputs": [],
   "source": []
  },
  {
   "cell_type": "code",
   "execution_count": 18,
   "id": "69726818",
   "metadata": {},
   "outputs": [],
   "source": [
    "x = np.arange(0,2,0.1)\n",
    "y = np.exp(x)"
   ]
  }
 ],
 "metadata": {
  "kernelspec": {
   "display_name": "Python 3 (ipykernel)",
   "language": "python",
   "name": "python3"
  },
  "language_info": {
   "codemirror_mode": {
    "name": "ipython",
    "version": 3
   },
   "file_extension": ".py",
   "mimetype": "text/x-python",
   "name": "python",
   "nbconvert_exporter": "python",
   "pygments_lexer": "ipython3",
   "version": "3.9.13"
  }
 },
 "nbformat": 4,
 "nbformat_minor": 5
}

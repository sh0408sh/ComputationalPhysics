{
 "cells": [
  {
   "cell_type": "code",
   "execution_count": 2,
   "id": "5dbfb9fe",
   "metadata": {},
   "outputs": [],
   "source": [
    "import numpy as np\n",
    "import matplotlib.pyplot as plt"
   ]
  },
  {
   "cell_type": "code",
   "execution_count": 3,
   "id": "4e064d6e",
   "metadata": {},
   "outputs": [
    {
     "name": "stdout",
     "output_type": "stream",
     "text": [
      "xmax=3\n",
      "ymax=3\n",
      "dx=0.01\n",
      "dy=0.01\n",
      "dt=0.005\n",
      "f=0.5\n",
      "D=0.5\n",
      "smax=1000\n"
     ]
    }
   ],
   "source": [
    "xmax=float(input(\"xmax=\"))\n",
    "ymax=float(input(\"ymax=\"))\n",
    "dx=float(input(\"dx=\"))\n",
    "dy=float(input(\"dy=\"))\n",
    "dt=float(input(\"dt=\"))\n",
    "f=float(input(\"f=\"))\n",
    "D=float(input(\"D=\"))\n",
    "smax=int(input(\"smax=\"))\n"
   ]
  },
  {
   "cell_type": "code",
   "execution_count": 4,
   "id": "4feecfdc",
   "metadata": {},
   "outputs": [],
   "source": [
    "a=dt/dx;  b=dt/dy\n",
    "w=2.0*np.pi*f"
   ]
  },
  {
   "cell_type": "code",
   "execution_count": 7,
   "id": "515afb43",
   "metadata": {},
   "outputs": [
    {
     "name": "stdout",
     "output_type": "stream",
     "text": [
      "1.5\n",
      "175\n",
      "125\n"
     ]
    }
   ],
   "source": [
    "cntr=0.5*ymax\n",
    "upper=int(0.5*(ymax+D)/dy)\n",
    "lower=int(0.5*(ymax-D)/dy)\n",
    "\n",
    "print(cntr)\n",
    "print(upper)\n",
    "print(lower)"
   ]
  },
  {
   "cell_type": "code",
   "execution_count": 8,
   "id": "2d88b70a",
   "metadata": {},
   "outputs": [],
   "source": [
    "x=np.arange(0,xmax+dx,dx)\n",
    "y=np.arange(0,ymax+dy,dy)"
   ]
  },
  {
   "cell_type": "code",
   "execution_count": 9,
   "id": "ff4b056a",
   "metadata": {},
   "outputs": [],
   "source": [
    "X,Y=np.meshgrid(x,y)\n",
    "Ex=0*X; Ey=0*X; Ez=0*X\n",
    "Bx=0*X; By=0*X; Bz=0*X"
   ]
  },
  {
   "cell_type": "code",
   "execution_count": 12,
   "id": "0da178ad",
   "metadata": {},
   "outputs": [
    {
     "name": "stdout",
     "output_type": "stream",
     "text": [
      "[[0. 0. 0. ... 0. 0. 0.]\n",
      " [0. 0. 0. ... 0. 0. 0.]\n",
      " [0. 0. 0. ... 0. 0. 0.]\n",
      " ...\n",
      " [0. 0. 0. ... 0. 0. 0.]\n",
      " [0. 0. 0. ... 0. 0. 0.]\n",
      " [0. 0. 0. ... 0. 0. 0.]]\n"
     ]
    }
   ],
   "source": [
    "print(Ex)"
   ]
  },
  {
   "cell_type": "code",
   "execution_count": 17,
   "id": "700936de",
   "metadata": {},
   "outputs": [
    {
     "name": "stdout",
     "output_type": "stream",
     "text": [
      "0.0\n"
     ]
    }
   ],
   "source": [
    "s=0\n",
    "while s<smax:\n",
    "\t#Ey[:,0]= np.exp(-(y-cntr)**2/(0.2*ymax)**2)*np.sin(w*s*dt) # emission \n",
    "\tEy[lower:upper,0]= np.sin(w*s*dt) # hole \n",
    "\tBx[:-1,:-1] +=  -b*(Ez[1:,:-1]-Ez[:-1,:-1])\n",
    "\tBy[1:-1,:-1] +=  a*(Ez[1:-1,1:]-Ez[1:-1,:-1])\n",
    "\tBz[:-1,:-1]+= -a*(Ey[:-1,1:]-Ey[:-1,:-1]) + b*(Ex[1:,:-1]-Ex[:-1,:-1])\n",
    "\tEx[1:-1,:-1] +=  b*(Bz[1:-1,:-1]-Bz[:-2,:-1])\n",
    "\tEy[:-1,1:-1] += -a*(Bz[:-1,1:-1]-Bz[:-1,:-2])\n",
    "\tEz[1:-1,1:-1]+=  a*(By[1:-1,1:-1]-By[1:-1,:-2]) - b*(Bx[1:-1,1:-1]-Bx[:-2,1:-1])\n",
    "\ts+=1\n",
    "    "
   ]
  },
  {
   "cell_type": "code",
   "execution_count": null,
   "id": "5dd8ab98",
   "metadata": {},
   "outputs": [],
   "source": [
    "cs=plt.imshow(Ey); plt.colorbar(cs); plt.show()"
   ]
  }
 ],
 "metadata": {
  "kernelspec": {
   "display_name": "Python 3 (ipykernel)",
   "language": "python",
   "name": "python3"
  },
  "language_info": {
   "codemirror_mode": {
    "name": "ipython",
    "version": 3
   },
   "file_extension": ".py",
   "mimetype": "text/x-python",
   "name": "python",
   "nbconvert_exporter": "python",
   "pygments_lexer": "ipython3",
   "version": "3.9.13"
  }
 },
 "nbformat": 4,
 "nbformat_minor": 5
}
